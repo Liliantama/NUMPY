{
 "cells": [
  {
   "cell_type": "code",
   "execution_count": null,
   "metadata": {},
   "outputs": [],
   "source": [
    "16. How to add a border (filled with 0's) around an existing array? (★☆☆)\n"
   ]
  },
  {
   "cell_type": "code",
   "execution_count": 1,
   "metadata": {},
   "outputs": [],
   "source": [
    "import numpy"
   ]
  },
  {
   "cell_type": "code",
   "execution_count": 2,
   "metadata": {},
   "outputs": [],
   "source": [
    "import numpy as np"
   ]
  },
  {
   "cell_type": "code",
   "execution_count": 3,
   "metadata": {},
   "outputs": [
    {
     "name": "stdout",
     "output_type": "stream",
     "text": [
      "[[0. 0. 0. 0. 0.]\n",
      " [0. 1. 1. 1. 0.]\n",
      " [0. 1. 1. 1. 0.]\n",
      " [0. 1. 1. 1. 0.]\n",
      " [0. 0. 0. 0. 0.]]\n"
     ]
    }
   ],
   "source": [
    "array = np.ones((3, 3))\n",
    "\n",
    "# Add a border of 0s around the existing array\n",
    "array_with_border = np.pad(array, pad_width=1, mode='constant', constant_values=0)\n",
    "\n",
    "print(array_with_border)"
   ]
  },
  {
   "cell_type": "markdown",
   "metadata": {},
   "source": [
    "17. What is the result of the following expression? (★☆☆)\n",
    "0 * np.nan\n",
    "np.nan == np.nan\n",
    "np.inf > np.nan\n",
    "np.nan - np.nan\n",
    "np.nan in set([np.nan])\n",
    "0.3 == 3 * 0.1"
   ]
  },
  {
   "cell_type": "code",
   "execution_count": 5,
   "metadata": {},
   "outputs": [
    {
     "name": "stdout",
     "output_type": "stream",
     "text": [
      "0 * np.nan:\n",
      "np.nan == np.nan:\n",
      "np.inf > np.nan:\n",
      "np.nan - np.nan:\n",
      "np.nan in set([np.nan]):\n",
      "0.3 == 3 * 0.1:\n"
     ]
    }
   ],
   "source": [
    "print(\"0 * np.nan:\",)               \n",
    "print(\"np.nan == np.nan:\",)            \n",
    "print(\"np.inf > np.nan:\",)             \n",
    "print(\"np.nan - np.nan:\",)             \n",
    "print(\"np.nan in set([np.nan]):\",)     \n",
    "print(\"0.3 == 3 * 0.1:\",)  "
   ]
  },
  {
   "cell_type": "markdown",
   "metadata": {},
   "source": [
    "18. Create a 5x5 matrix with values 1,2,3,4 just below the diagonal (★☆☆)\n"
   ]
  },
  {
   "cell_type": "code",
   "execution_count": 6,
   "metadata": {},
   "outputs": [
    {
     "name": "stdout",
     "output_type": "stream",
     "text": [
      "[[0 0 0 0 0]\n",
      " [1 0 0 0 0]\n",
      " [0 2 0 0 0]\n",
      " [0 0 3 0 0]\n",
      " [0 0 0 4 0]]\n"
     ]
    }
   ],
   "source": [
    "values = np.array([1, 2, 3, 4])\n",
    "\n",
    "# Create a 5x5 matrix with these values just below the main diagonal (k=-1)\n",
    "matrix = np.diag(values, k=-1)\n",
    "\n",
    "print(matrix)"
   ]
  },
  {
   "cell_type": "markdown",
   "metadata": {},
   "source": [
    "19. Create a 8x8 matrix and fill it with a checkerboard pattern (★☆☆)\n"
   ]
  },
  {
   "cell_type": "code",
   "execution_count": 7,
   "metadata": {},
   "outputs": [
    {
     "name": "stdout",
     "output_type": "stream",
     "text": [
      "[[0 1 0 1 0 1 0 1]\n",
      " [1 0 1 0 1 0 1 0]\n",
      " [0 1 0 1 0 1 0 1]\n",
      " [1 0 1 0 1 0 1 0]\n",
      " [0 1 0 1 0 1 0 1]\n",
      " [1 0 1 0 1 0 1 0]\n",
      " [0 1 0 1 0 1 0 1]\n",
      " [1 0 1 0 1 0 1 0]]\n"
     ]
    }
   ],
   "source": [
    "matrix = np.zeros((8, 8), dtype=int)\n",
    "\n",
    "# Fill the matrix with a checkerboard pattern\n",
    "matrix[1::2, ::2] = 1\n",
    "matrix[::2, 1::2] = 1\n",
    "\n",
    "print(matrix)"
   ]
  },
  {
   "cell_type": "markdown",
   "metadata": {},
   "source": [
    "20. Consider a (6,7,8) shape array, what is the index (x,y,z) of the 100th element?\n"
   ]
  },
  {
   "cell_type": "code",
   "execution_count": 8,
   "metadata": {},
   "outputs": [
    {
     "name": "stdout",
     "output_type": "stream",
     "text": [
      "(np.int64(1), np.int64(5), np.int64(4))\n"
     ]
    }
   ],
   "source": [
    "shape = (6, 7, 8)\n",
    "\n",
    "# Calculate the index (x, y, z) of the 100th element\n",
    "index = np.unravel_index(100, shape)\n",
    "\n",
    "print(index)"
   ]
  },
  {
   "cell_type": "markdown",
   "metadata": {},
   "source": [
    "21. Create a checkerboard 8x8 matrix using the tile function (★☆☆)\n"
   ]
  },
  {
   "cell_type": "code",
   "execution_count": 9,
   "metadata": {},
   "outputs": [
    {
     "name": "stdout",
     "output_type": "stream",
     "text": [
      "[[1 0 1 0 1 0 1 0]\n",
      " [0 1 0 1 0 1 0 1]\n",
      " [1 0 1 0 1 0 1 0]\n",
      " [0 1 0 1 0 1 0 1]\n",
      " [1 0 1 0 1 0 1 0]\n",
      " [0 1 0 1 0 1 0 1]\n",
      " [1 0 1 0 1 0 1 0]\n",
      " [0 1 0 1 0 1 0 1]]\n"
     ]
    }
   ],
   "source": [
    "pattern = np.array([[1, 0],\n",
    "                    [0, 1]])\n",
    "\n",
    "# Tile the pattern to create an 8x8 matrix\n",
    "checkerboard = np.tile(pattern, (4, 4))\n",
    "\n",
    "print(checkerboard)"
   ]
  },
  {
   "cell_type": "markdown",
   "metadata": {},
   "source": [
    "22. Normalize a 5x5 random matrix (★☆☆)\n"
   ]
  },
  {
   "cell_type": "code",
   "execution_count": 10,
   "metadata": {},
   "outputs": [
    {
     "name": "stdout",
     "output_type": "stream",
     "text": [
      "Original Matrix:\n",
      " [[8.52426179e-01 9.30561874e-01 9.14402085e-02 7.06179457e-01\n",
      "  8.26221390e-01]\n",
      " [7.35340675e-01 4.53270641e-01 2.91997380e-01 1.45990625e-01\n",
      "  3.53461618e-01]\n",
      " [7.17976634e-01 5.76510600e-01 4.08161358e-01 5.95142915e-01\n",
      "  6.19293771e-01]\n",
      " [8.19666861e-01 9.43655638e-01 9.02427575e-01 9.90457619e-01\n",
      "  7.85154799e-01]\n",
      " [7.73112998e-01 6.96485265e-02 8.56155401e-01 6.93277062e-04\n",
      "  1.51045795e-01]]\n",
      "Normalized Matrix:\n",
      " [[0.86054111 0.93948484 0.09168539 0.71278197 0.83406532]\n",
      " [0.74224476 0.4572577  0.29431663 0.14679994 0.3564165 ]\n",
      " [0.72470115 0.58177214 0.41168192 0.60059714 0.62499776]\n",
      " [0.82744301 0.95271402 0.91105959 1.         0.79257404]\n",
      " [0.78040771 0.06966835 0.86430889 0.         0.15190739]]\n"
     ]
    }
   ],
   "source": [
    "random_matrix = np.random.rand(5, 5)\n",
    "\n",
    "# Normalize the matrix\n",
    "min_value = np.min(random_matrix)\n",
    "max_value = np.max(random_matrix)\n",
    "normalized_matrix = (random_matrix - min_value) / (max_value - min_value)\n",
    "\n",
    "print(\"Original Matrix:\\n\", random_matrix)\n",
    "print(\"Normalized Matrix:\\n\", normalized_matrix)"
   ]
  },
  {
   "cell_type": "markdown",
   "metadata": {},
   "source": [
    "23. Create a custom dtype that describes a color as four unsigned bytes (RGBA) (★☆☆)\n"
   ]
  },
  {
   "cell_type": "code",
   "execution_count": 11,
   "metadata": {},
   "outputs": [
    {
     "name": "stdout",
     "output_type": "stream",
     "text": [
      "[(255,   0,   0, 255) (  0, 255,   0, 255) (  0,   0, 255, 255)]\n",
      "[255   0   0]\n",
      "[  0 255   0]\n",
      "[  0   0 255]\n",
      "[255 255 255]\n"
     ]
    }
   ],
   "source": [
    "# Define the custom dtype for RGBA color\n",
    "color_dtype = np.dtype([\n",
    "    ('r', np.uint8),  # Red component\n",
    "    ('g', np.uint8),  # Green component\n",
    "    ('b', np.uint8),  # Blue component\n",
    "    ('a', np.uint8)   # Alpha component\n",
    "])\n",
    "\n",
    "# Example of using this dtype to create an array of colors\n",
    "colors = np.array([(255, 0, 0, 255), (0, 255, 0, 255), (0, 0, 255, 255)], dtype=color_dtype)\n",
    "\n",
    "print(colors)\n",
    "print(colors['r'])  # Accessing the red component\n",
    "print(colors['g'])  # Accessing the green component\n",
    "print(colors['b'])  # Accessing the blue component\n",
    "print(colors['a'])  # Accessing the alpha component"
   ]
  },
  {
   "cell_type": "markdown",
   "metadata": {},
   "source": [
    "24. Multiply a 5x3 matrix by a 3x2 matrix (real matrix product) (★☆☆)\n"
   ]
  },
  {
   "cell_type": "code",
   "execution_count": 12,
   "metadata": {},
   "outputs": [
    {
     "name": "stdout",
     "output_type": "stream",
     "text": [
      "Matrix 1:\n",
      " [[0.54283397 0.45274273 0.77101276]\n",
      " [0.57327423 0.19412349 0.60982966]\n",
      " [0.26858285 0.06831172 0.07581066]\n",
      " [0.84110375 0.04516341 0.60931202]\n",
      " [0.7968355  0.28869644 0.12918377]]\n",
      "Matrix 2:\n",
      " [[0.12238932 0.49428017]\n",
      " [0.23654198 0.10938961]\n",
      " [0.7169625  0.41305692]]\n",
      "Result of multiplication:\n",
      " [[0.72631698 0.63630957]\n",
      " [0.553306   0.55648754]\n",
      " [0.10338366 0.17154188]\n",
      " [0.55047903 0.67236186]\n",
      " [0.2584329  0.47880062]]\n"
     ]
    }
   ],
   "source": [
    "matrix1 = np.random.rand(5, 3)\n",
    "\n",
    "matrix2 = np.random.rand(3, 2)\n",
    "\n",
    "result = np.dot(matrix1, matrix2)\n"
   ]
  },
  {
   "cell_type": "markdown",
   "metadata": {},
   "source": [
    "25. Given a 1D array, negate all elements which are between 3 and 8, in place. (★☆☆)\n"
   ]
  },
  {
   "cell_type": "code",
   "execution_count": 13,
   "metadata": {},
   "outputs": [
    {
     "name": "stdout",
     "output_type": "stream",
     "text": [
      "[ 1  2  3 -4 -5 -6 -7  8  9 10]\n"
     ]
    }
   ],
   "source": [
    "# Create a 1D array\n",
    "array = np.array([1, 2, 3, 4, 5, 6, 7, 8, 9, 10])\n",
    "\n",
    "# Negate all elements which are between 3 and 8\n",
    "array[(array > 3) & (array < 8)] *= -1\n",
    "\n",
    "print(array)"
   ]
  },
  {
   "cell_type": "markdown",
   "metadata": {},
   "source": [
    "26. What is the output of the following script? (★☆☆)\n",
    "print(sum(range(5),-1))\n",
    "from numpy import *\n",
    "print(sum(range(5),-1))"
   ]
  },
  {
   "cell_type": "code",
   "execution_count": 14,
   "metadata": {},
   "outputs": [
    {
     "name": "stdout",
     "output_type": "stream",
     "text": [
      "9\n",
      "10\n"
     ]
    }
   ],
   "source": [
    "print(sum(range(5),-1))\n",
    "from numpy import *\n",
    "print(sum(range(5),-1))"
   ]
  },
  {
   "cell_type": "code",
   "execution_count": null,
   "metadata": {},
   "outputs": [],
   "source": [
    "27. Consider an integer vector Z, which of these expressions are legal? (★☆☆)\n",
    "Z**Z\n",
    "2 << Z >> 2\n",
    "Z <- Z\n",
    "1j*Z\n",
    "Z/1/1\n",
    "Z<Z>Z"
   ]
  },
  {
   "cell_type": "code",
   "execution_count": null,
   "metadata": {},
   "outputs": [],
   "source": [
    "Z**Z\n",
    "2 << Z >> 2\n",
    "Z <- Z\n",
    "1j*Z\n",
    "Z/1/1"
   ]
  },
  {
   "cell_type": "markdown",
   "metadata": {},
   "source": [
    "28. What are the result of the following expressions?\n",
    "np.array(0) / np.array(0)\n",
    "np.array(0) // np.array(0)\n",
    "np.array([np.nan]).astype(int).astype(float)"
   ]
  },
  {
   "cell_type": "code",
   "execution_count": 18,
   "metadata": {},
   "outputs": [
    {
     "name": "stdout",
     "output_type": "stream",
     "text": [
      "nan\n"
     ]
    },
    {
     "name": "stderr",
     "output_type": "stream",
     "text": [
      "C:\\Users\\ADMIN\\AppData\\Local\\Temp\\ipykernel_12704\\403653203.py:1: RuntimeWarning: invalid value encountered in divide\n",
      "  result1 = np.array(0) / np.array(0)\n"
     ]
    }
   ],
   "source": [
    "result1 = np.array(0) / np.array(0)\n",
    "print(result1)"
   ]
  },
  {
   "cell_type": "code",
   "execution_count": 19,
   "metadata": {},
   "outputs": [
    {
     "name": "stdout",
     "output_type": "stream",
     "text": [
      "0\n"
     ]
    },
    {
     "name": "stderr",
     "output_type": "stream",
     "text": [
      "C:\\Users\\ADMIN\\AppData\\Local\\Temp\\ipykernel_12704\\342119538.py:1: RuntimeWarning: divide by zero encountered in floor_divide\n",
      "  result2 = np.array(0) // np.array(0)\n"
     ]
    }
   ],
   "source": [
    "result2 = np.array(0) // np.array(0)\n",
    "print(result2)"
   ]
  },
  {
   "cell_type": "markdown",
   "metadata": {},
   "source": [
    "29. How to round away from zero a float array ? (★☆☆)\n"
   ]
  },
  {
   "cell_type": "code",
   "execution_count": null,
   "metadata": {},
   "outputs": [],
   "source": [
    "# Round away from zero\n",
    "rounded_array = np.copysign(np.ceil(np.abs(float_array)), float_array)\n",
    "float_array=4                            \n",
    "\n",
    "print(\"4:\", float_array)\n",
    "print(\"5:\", rounded_array)"
   ]
  },
  {
   "cell_type": "markdown",
   "metadata": {},
   "source": [
    "30. How to find common values between two arrays? (★☆☆)\n"
   ]
  },
  {
   "cell_type": "code",
   "execution_count": 22,
   "metadata": {},
   "outputs": [
    {
     "name": "stdout",
     "output_type": "stream",
     "text": [
      "Array 1: [1 2 3 4 5]\n",
      "Array 2: [4 5 6 7 8]\n",
      "Common values: [4 5]\n"
     ]
    }
   ],
   "source": [
    "array1 = np.array([1, 2, 3, 4, 5])\n",
    "array2 = np.array([4, 5, 6, 7, 8])\n",
    "\n",
    "# Find common values\n",
    "common_values = np.intersect1d(array1, array2)\n",
    "\n",
    "print(\"Array 1:\", array1)\n",
    "print(\"Array 2:\", array2)\n",
    "print(\"Common values:\", common_values)"
   ]
  },
  {
   "cell_type": "code",
   "execution_count": null,
   "metadata": {},
   "outputs": [],
   "source": []
  }
 ],
 "metadata": {
  "kernelspec": {
   "display_name": "numpy",
   "language": "python",
   "name": "python3"
  },
  "language_info": {
   "codemirror_mode": {
    "name": "ipython",
    "version": 3
   },
   "file_extension": ".py",
   "mimetype": "text/x-python",
   "name": "python",
   "nbconvert_exporter": "python",
   "pygments_lexer": "ipython3",
   "version": "3.12.3"
  }
 },
 "nbformat": 4,
 "nbformat_minor": 2
}
