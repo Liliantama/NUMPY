{
 "cells": [
  {
   "cell_type": "code",
   "execution_count": 5,
   "metadata": {},
   "outputs": [],
   "source": [
    "import numpy as np"
   ]
  },
  {
   "cell_type": "markdown",
   "metadata": {},
   "source": [
    "61. Find the nearest value from a given value in an array (★★☆)\n"
   ]
  },
  {
   "cell_type": "code",
   "execution_count": 6,
   "metadata": {},
   "outputs": [
    {
     "name": "stdout",
     "output_type": "stream",
     "text": [
      "The nearest value to 6.5 is 6\n"
     ]
    }
   ],
   "source": [
    "def find_nearest(array, value):\n",
    "    array = np.asarray(array)\n",
    "    idx = (np.abs(array - value)).argmin()\n",
    "    return array[idx]\n",
    "\n",
    "array = np.array([1, 2, 3, 4, 5, 6, 7, 8, 9, 10])\n",
    "value = 6.5\n",
    "nearest_value = find_nearest(array, value)\n",
    "print(f\"The nearest value to {value} is {nearest_value}\")"
   ]
  },
  {
   "cell_type": "markdown",
   "metadata": {},
   "source": [
    "62. Considering two arrays with shape (1,3) and (3,1), how to compute their sum using an iterator? (★★☆)\n"
   ]
  },
  {
   "cell_type": "code",
   "execution_count": 7,
   "metadata": {},
   "outputs": [
    {
     "ename": "ValueError",
     "evalue": "output operand requires a reduction along dimension 0, but the reduction is not enabled. The dimension size of 1 does not match the expected output shape.",
     "output_type": "error",
     "traceback": [
      "\u001b[1;31m---------------------------------------------------------------------------\u001b[0m",
      "\u001b[1;31mValueError\u001b[0m                                Traceback (most recent call last)",
      "Cell \u001b[1;32mIn[7], line 9\u001b[0m\n\u001b[0;32m      6\u001b[0m result \u001b[38;5;241m=\u001b[39m np\u001b[38;5;241m.\u001b[39mempty((\u001b[38;5;241m3\u001b[39m, \u001b[38;5;241m3\u001b[39m))\n\u001b[0;32m      8\u001b[0m \u001b[38;5;66;03m# Use nditer to iterate over both arrays\u001b[39;00m\n\u001b[1;32m----> 9\u001b[0m \u001b[38;5;28;01mwith\u001b[39;00m \u001b[43mnp\u001b[49m\u001b[38;5;241;43m.\u001b[39;49m\u001b[43mnditer\u001b[49m\u001b[43m(\u001b[49m\u001b[43m[\u001b[49m\u001b[43marray1\u001b[49m\u001b[43m,\u001b[49m\u001b[43m \u001b[49m\u001b[43marray2\u001b[49m\u001b[43m,\u001b[49m\u001b[43m \u001b[49m\u001b[43mresult\u001b[49m\u001b[43m]\u001b[49m\u001b[43m,\u001b[49m\u001b[43m \u001b[49m\u001b[43mop_flags\u001b[49m\u001b[38;5;241;43m=\u001b[39;49m\u001b[43m[\u001b[49m\u001b[38;5;124;43m'\u001b[39;49m\u001b[38;5;124;43mreadwrite\u001b[39;49m\u001b[38;5;124;43m'\u001b[39;49m\u001b[43m]\u001b[49m\u001b[43m,\u001b[49m\u001b[43m \u001b[49m\u001b[43mflags\u001b[49m\u001b[38;5;241;43m=\u001b[39;49m\u001b[43m[\u001b[49m\u001b[38;5;124;43m'\u001b[39;49m\u001b[38;5;124;43mexternal_loop\u001b[39;49m\u001b[38;5;124;43m'\u001b[39;49m\u001b[43m]\u001b[49m\u001b[43m,\u001b[49m\u001b[43m \u001b[49m\u001b[43morder\u001b[49m\u001b[38;5;241;43m=\u001b[39;49m\u001b[38;5;124;43m'\u001b[39;49m\u001b[38;5;124;43mC\u001b[39;49m\u001b[38;5;124;43m'\u001b[39;49m\u001b[43m)\u001b[49m \u001b[38;5;28;01mas\u001b[39;00m it:\n\u001b[0;32m     10\u001b[0m     \u001b[38;5;28;01mfor\u001b[39;00m x, y, z \u001b[38;5;129;01min\u001b[39;00m it:\n\u001b[0;32m     11\u001b[0m         z[\u001b[38;5;241m.\u001b[39m\u001b[38;5;241m.\u001b[39m\u001b[38;5;241m.\u001b[39m] \u001b[38;5;241m=\u001b[39m x \u001b[38;5;241m+\u001b[39m y\n",
      "\u001b[1;31mValueError\u001b[0m: output operand requires a reduction along dimension 0, but the reduction is not enabled. The dimension size of 1 does not match the expected output shape."
     ]
    }
   ],
   "source": [
    "\n",
    "array1 = np.array([[1, 2, 3]])\n",
    "array2 = np.array([[4], [5], [6]])\n",
    "\n",
    "result = np.empty((3, 3))\n",
    "\n",
    "with np.nditer([array1, array2, result], op_flags=['readwrite'], flags=['external_loop'], order='C') as it:\n",
    "    for x, y, z in it:\n",
    "        z[...] = x + y\n",
    "\n",
    "print(\"Array 1:\")\n",
    "print(array1)\n",
    "print(\"Array 2:\")\n",
    "print(array2)\n",
    "print(\"Sum:\")\n",
    "print(result)\n"
   ]
  },
  {
   "cell_type": "markdown",
   "metadata": {},
   "source": [
    "63. Create an array class that has a name attribute (★★☆)\n"
   ]
  },
  {
   "cell_type": "code",
   "execution_count": 8,
   "metadata": {},
   "outputs": [
    {
     "name": "stdout",
     "output_type": "stream",
     "text": [
      "[1 2 3 4 5]\n",
      "Array name: MyArray\n"
     ]
    }
   ],
   "source": [
    "\n",
    "class NamedArray(np.ndarray):\n",
    "    def __new__(cls, input_array, name=\"\"):\n",
    "        obj = np.asarray(input_array).view(cls)\n",
    "        obj.name = name\n",
    "        return obj\n",
    "\n",
    "    def __array_finalize__(self, obj):\n",
    "        if obj is None: return\n",
    "        self.name = getattr(obj, 'name', \"\")\n",
    "\n",
    "data = np.array([1, 2, 3, 4, 5])\n",
    "named_array = NamedArray(data, name=\"MyArray\")\n",
    "\n",
    "print(named_array)\n",
    "print(f\"Array name: {named_array.name}\")\n"
   ]
  },
  {
   "cell_type": "markdown",
   "metadata": {},
   "source": [
    "64. Consider a given vector, how to add 1 to each element indexed by a second vector (be careful with repeated indices)? (★★★)\n"
   ]
  },
  {
   "cell_type": "code",
   "execution_count": 9,
   "metadata": {},
   "outputs": [
    {
     "name": "stdout",
     "output_type": "stream",
     "text": [
      "Updated vector:\n",
      "[ 0  2  2  5  4  6  6 10  8  9]\n"
     ]
    }
   ],
   "source": [
    "\n",
    "vector = np.array([0, 1, 2, 3, 4, 5, 6, 7, 8, 9])\n",
    "\n",
    "indices = np.array([1, 3, 3, 5, 7, 7, 7])\n",
    "np.add.at(vector, indices, 1)\n",
    "\n",
    "print(\"Updated vector:\")\n",
    "print(vector)\n"
   ]
  },
  {
   "cell_type": "markdown",
   "metadata": {},
   "source": [
    "65. How to accumulate elements of a vector (X) to an array (F) based on an index list (I)? (★★★)\n"
   ]
  },
  {
   "cell_type": "code",
   "execution_count": 10,
   "metadata": {},
   "outputs": [
    {
     "name": "stdout",
     "output_type": "stream",
     "text": [
      "Accumulated array F:\n",
      "[ 7.  9. 11. 13.  5.]\n"
     ]
    }
   ],
   "source": [
    "\n",
    "X = np.array([1, 2, 3, 4, 5, 6, 7, 8, 9])\n",
    "\n",
    "I = np.array([0, 1, 2, 3, 4, 0, 1, 2, 3])\n",
    "\n",
    "F = np.zeros(5)\n",
    "\n",
    "np.add.at(F, I, X)\n",
    "\n",
    "print(\"Accumulated array F:\")\n",
    "print(F)\n",
    "\n"
   ]
  },
  {
   "cell_type": "markdown",
   "metadata": {},
   "source": [
    "66. Considering a (w,h,3) image of (dtype=ubyte), compute the number of unique colors (★★☆)\n"
   ]
  },
  {
   "cell_type": "code",
   "execution_count": 13,
   "metadata": {},
   "outputs": [
    {
     "name": "stdout",
     "output_type": "stream",
     "text": [
      "Number of unique colors: 5\n"
     ]
    }
   ],
   "source": [
    "\n",
    "image = np.array([[[0, 0, 0], [255, 255, 255], [255, 0, 0]],\n",
    "                  [[0, 255, 0], [0, 0, 255], [255, 255, 255]],\n",
    "                  [[0, 0, 0], [255, 0, 0], [0, 255, 0]]], dtype=np.uint8)\n",
    "\n",
    "reshaped_image = image.reshape(-1, 3)\n",
    "\n",
    "unique_colors = np.unique(reshaped_image, axis=0)\n",
    "\n",
    "num_unique_colors = unique_colors.shape[0]\n",
    "\n",
    "print(\"Number of unique colors:\", num_unique_colors)\n"
   ]
  },
  {
   "cell_type": "markdown",
   "metadata": {},
   "source": [
    "67. Considering a four dimensions array, how to get sum over the last two axis at once? (★★★)\n"
   ]
  },
  {
   "cell_type": "code",
   "execution_count": 2,
   "metadata": {},
   "outputs": [],
   "source": [
    "import numpy as np"
   ]
  },
  {
   "cell_type": "code",
   "execution_count": 14,
   "metadata": {},
   "outputs": [
    {
     "name": "stdout",
     "output_type": "stream",
     "text": [
      "Original array shape: (3, 4, 5, 6)\n",
      "Sum over the last two axes shape: (3, 4)\n",
      "Sum over the last two axes:\n",
      "[[14.69996602 11.25833888 14.1894675  15.11544395]\n",
      " [15.49625992 16.24598735 14.73700702 16.54771139]\n",
      " [16.18024126 15.28560955 15.14051119 15.14934513]]\n"
     ]
    }
   ],
   "source": [
    "\n",
    "array_4d = np.random.rand(3, 4, 5, 6)\n",
    "\n",
    "sum_last_two_axes = np.sum(array_4d, axis=(-2, -1))\n",
    "\n",
    "print(\"Original array shape:\", array_4d.shape)\n",
    "print(\"Sum over the last two axes shape:\", sum_last_two_axes.shape)\n",
    "print(\"Sum over the last two axes:\")\n",
    "print(sum_last_two_axes)\n"
   ]
  },
  {
   "cell_type": "markdown",
   "metadata": {},
   "source": [
    "68. Considering a one-dimensional vector D, how to compute means of subsets of D using a vector S of same size describing subset indices? (★★★)\n"
   ]
  },
  {
   "cell_type": "code",
   "execution_count": 15,
   "metadata": {},
   "outputs": [
    {
     "name": "stdout",
     "output_type": "stream",
     "text": [
      "Means of subsets of D based on S:\n",
      "S\n",
      "0    3.0\n",
      "1    4.0\n",
      "2    8.5\n",
      "Name: D, dtype: float64\n"
     ]
    }
   ],
   "source": [
    "import numpy as np\n",
    "import pandas as pd\n",
    "\n",
    "D = np.array([1, 2, 3, 4, 5, 6, 7, 8, 9, 10])\n",
    "S = np.array([0, 1, 0, 1, 0, 1, 2, 2, 2, 2])\n",
    "\n",
    "df = pd.DataFrame({'D': D, 'S': S})\n",
    "\n",
    "means = df.groupby('S')['D'].mean()\n",
    "\n",
    "print(\"Means of subsets of D based on S:\")\n",
    "print(means)\n"
   ]
  },
  {
   "cell_type": "markdown",
   "metadata": {},
   "source": [
    "69. How to get the diagonal of a dot product? (★★★)\n"
   ]
  },
  {
   "cell_type": "code",
   "execution_count": 3,
   "metadata": {},
   "outputs": [
    {
     "name": "stdout",
     "output_type": "stream",
     "text": [
      "Matrix A:\n",
      "[[0.90302276 0.06750501 0.84878445]\n",
      " [0.25647035 0.58727054 0.79670892]\n",
      " [0.4486345  0.71963045 0.41622344]\n",
      " [0.60100598 0.70093697 0.09049253]]\n",
      "Matrix B:\n",
      "[[0.05757203 0.0557553  0.93257973 0.98517609]\n",
      " [0.17523761 0.82646156 0.06481024 0.26023144]\n",
      " [0.38359515 0.596323   0.92229048 0.75767807]]\n",
      "Diagonal of the dot product of A and B:\n",
      "[0.38940787 0.97475197 0.84890578 0.84306676]\n"
     ]
    }
   ],
   "source": [
    "\n",
    "A = np.random.rand(4, 3)\n",
    "B = np.random.rand(3, 4)\n",
    "\n",
    "diag_dot_product = np.einsum('ij,ji->i', A, B)\n",
    "\n",
    "print(\"Matrix A:\")\n",
    "print(A)\n",
    "print(\"Matrix B:\")\n",
    "print(B)\n",
    "print(\"Diagonal of the dot product of A and B:\")\n",
    "print(diag_dot_product)\n"
   ]
  },
  {
   "cell_type": "markdown",
   "metadata": {},
   "source": [
    "70. Consider the vector [1, 2, 3, 4, 5], how to build a new vector with 3 consecutive zeros interleaved between each value? (★★★)\n"
   ]
  },
  {
   "cell_type": "code",
   "execution_count": 4,
   "metadata": {},
   "outputs": [
    {
     "name": "stdout",
     "output_type": "stream",
     "text": [
      "Original vector:\n",
      "[1 2 3 4 5]\n",
      "New vector with interleaved zeros:\n",
      "[1 0 0 0 2 0 0 0 3 0 0 0 4 0 0 0 5]\n"
     ]
    }
   ],
   "source": [
    "import numpy as np\n",
    "\n",
    "original_vector = np.array([1, 2, 3, 4, 5])\n",
    "\n",
    "num_zeros = 3\n",
    "\n",
    "new_size = len(original_vector) * (num_zeros + 1) - num_zeros\n",
    "\n",
    "new_vector = np.zeros(new_size, dtype=original_vector.dtype)\n",
    "\n",
    "new_vector[::num_zeros + 1] = original_vector\n",
    "\n",
    "print(\"Original vector:\")\n",
    "print(original_vector)\n",
    "print(\"New vector with interleaved zeros:\")\n",
    "print(new_vector)\n"
   ]
  },
  {
   "cell_type": "markdown",
   "metadata": {},
   "source": [
    "71. Consider an array of dimension (5,5,3), how to mulitply it by an array with dimensions (5,5)? (★★★)\n"
   ]
  },
  {
   "cell_type": "code",
   "execution_count": 5,
   "metadata": {},
   "outputs": [
    {
     "name": "stdout",
     "output_type": "stream",
     "text": [
      "Original (5,5,3) array:\n",
      "[[[0.8553311  0.67119233 0.60986953]\n",
      "  [0.38557824 0.44117652 0.47063109]\n",
      "  [0.81566014 0.18487116 0.68028939]\n",
      "  [0.77331741 0.55614809 0.02977178]\n",
      "  [0.54481049 0.01774643 0.58112481]]\n",
      "\n",
      " [[0.47179067 0.6318478  0.95301546]\n",
      "  [0.40874465 0.83300703 0.43961727]\n",
      "  [0.16049539 0.43231192 0.0878583 ]\n",
      "  [0.27995391 0.11238851 0.32071361]\n",
      "  [0.65721119 0.1970845  0.88257644]]\n",
      "\n",
      " [[0.81551674 0.46937301 0.7074101 ]\n",
      "  [0.48441013 0.33498994 0.17040672]\n",
      "  [0.41322581 0.72979252 0.11309238]\n",
      "  [0.22381288 0.15176871 0.34354563]\n",
      "  [0.82113841 0.50492475 0.28012618]]\n",
      "\n",
      " [[0.3419896  0.0172784  0.77177336]\n",
      "  [0.00496804 0.62879885 0.65531606]\n",
      "  [0.13937208 0.17425207 0.30612408]\n",
      "  [0.19739438 0.56485495 0.14390563]\n",
      "  [0.17947008 0.44033053 0.32997502]]\n",
      "\n",
      " [[0.40570208 0.5182764  0.39895632]\n",
      "  [0.95571256 0.82788477 0.87716902]\n",
      "  [0.78834394 0.73377997 0.08946819]\n",
      "  [0.035675   0.37287813 0.03909862]\n",
      "  [0.95923795 0.39718414 0.37221857]]]\n",
      "Original (5,5) array:\n",
      "[[0.293079   0.23400152 0.82073561 0.17915371 0.76071277]\n",
      " [0.51604496 0.84282307 0.86027118 0.76571876 0.6526373 ]\n",
      " [0.60929731 0.41739154 0.15952066 0.4595955  0.24530062]\n",
      " [0.41060915 0.11532962 0.80389948 0.34257283 0.16674366]\n",
      " [0.79101113 0.98391119 0.33571343 0.92689406 0.07304918]]\n",
      "Expanded (5,5,1) array:\n",
      "[[[0.293079  ]\n",
      "  [0.23400152]\n",
      "  [0.82073561]\n",
      "  [0.17915371]\n",
      "  [0.76071277]]\n",
      "\n",
      " [[0.51604496]\n",
      "  [0.84282307]\n",
      "  [0.86027118]\n",
      "  [0.76571876]\n",
      "  [0.6526373 ]]\n",
      "\n",
      " [[0.60929731]\n",
      "  [0.41739154]\n",
      "  [0.15952066]\n",
      "  [0.4595955 ]\n",
      "  [0.24530062]]\n",
      "\n",
      " [[0.41060915]\n",
      "  [0.11532962]\n",
      "  [0.80389948]\n",
      "  [0.34257283]\n",
      "  [0.16674366]]\n",
      "\n",
      " [[0.79101113]\n",
      "  [0.98391119]\n",
      "  [0.33571343]\n",
      "  [0.92689406]\n",
      "  [0.07304918]]]\n",
      "Result of element-wise multiplication:\n",
      "[[[2.50679582e-01 1.96712376e-01 1.78739951e-01]\n",
      "  [9.02258935e-02 1.03235975e-01 1.10128389e-01]\n",
      "  [6.69441327e-01 1.51730347e-01 5.58337728e-01]\n",
      "  [1.38542683e-01 9.96359943e-02 5.33372447e-03]\n",
      "  [4.14444295e-01 1.34999336e-02 4.42069066e-01]]\n",
      "\n",
      " [[2.43465195e-01 3.26061872e-01 4.91798822e-01]\n",
      "  [3.44499423e-01 7.02077536e-01 3.70519579e-01]\n",
      "  [1.38069562e-01 3.71905489e-01 7.55819631e-02]\n",
      "  [2.14365962e-01 8.60579938e-02 2.45576426e-01]\n",
      "  [4.28920537e-01 1.28624695e-01 5.76002308e-01]]\n",
      "\n",
      " [[4.96892152e-01 2.85987708e-01 4.31023069e-01]\n",
      "  [2.02188688e-01 1.39821967e-01 7.11263213e-02]\n",
      "  [6.59180528e-02 1.16416982e-01 1.80405712e-02]\n",
      "  [1.02863391e-01 6.97522170e-02 1.57892025e-01]\n",
      "  [2.01425761e-01 1.23858353e-01 6.87151248e-02]]\n",
      "\n",
      " [[1.40424057e-01 7.09467008e-03 3.16897199e-01]\n",
      "  [5.72962096e-04 7.25191303e-02 7.55773500e-02]\n",
      "  [1.12041145e-01 1.40081151e-01 2.46092989e-01]\n",
      "  [6.76219523e-02 1.93503961e-01 4.92981586e-02]\n",
      "  [2.99254977e-02 7.34223239e-02 5.50212424e-02]]\n",
      "\n",
      " [[3.20914859e-01 4.09962399e-01 3.15578891e-01]\n",
      "  [9.40336283e-01 8.14565091e-01 8.63056420e-01]\n",
      "  [2.64657649e-01 2.46339792e-01 3.00356734e-02]\n",
      "  [3.30669429e-02 3.45618528e-01 3.62402825e-02]\n",
      "  [7.00715427e-02 2.90139744e-02 2.71902601e-02]]]\n"
     ]
    }
   ],
   "source": [
    "import numpy as np\n",
    "\n",
    "array_5x5x3 = np.random.rand(5, 5, 3)\n",
    "array_5x5 = np.random.rand(5, 5)\n",
    "expanded_array_5x5 = array_5x5[:, :, np.newaxis]\n",
    "\n",
    "result = array_5x5x3 * expanded_array_5x5\n",
    "\n",
    "print(\"Original (5,5,3) array:\")\n",
    "print(array_5x5x3)\n",
    "print(\"Original (5,5) array:\")\n",
    "print(array_5x5)\n",
    "print(\"Expanded (5,5,1) array:\")\n",
    "print(expanded_array_5x5)\n",
    "print(\"Result of element-wise multiplication:\")\n",
    "print(result)\n"
   ]
  },
  {
   "cell_type": "markdown",
   "metadata": {},
   "source": [
    "72. How to swap two rows of an array? (★★★)\n"
   ]
  },
  {
   "cell_type": "code",
   "execution_count": 6,
   "metadata": {},
   "outputs": [
    {
     "name": "stdout",
     "output_type": "stream",
     "text": [
      "Array after swapping rows:\n",
      "[[7 8 9]\n",
      " [4 5 6]\n",
      " [1 2 3]]\n"
     ]
    }
   ],
   "source": [
    "import numpy as np\n",
    "\n",
    "array = np.array([[1, 2, 3],\n",
    "                  [4, 5, 6],\n",
    "                  [7, 8, 9]])\n",
    "\n",
    "row1, row2 = 0, 2\n",
    "\n",
    "array[[row1, row2]] = array[[row2, row1]]\n",
    "\n",
    "print(\"Array after swapping rows:\")\n",
    "print(array)\n"
   ]
  },
  {
   "cell_type": "markdown",
   "metadata": {},
   "source": [
    "73. Consider a set of 10 triplets describing 10 triangles (with shared vertices), find the set of unique line segments composing all the triangles (★★★)\n"
   ]
  },
  {
   "cell_type": "code",
   "execution_count": 7,
   "metadata": {},
   "outputs": [
    {
     "name": "stdout",
     "output_type": "stream",
     "text": [
      "Unique edges:\n",
      "(np.int64(3), np.int64(4))\n",
      "(np.int64(0), np.int64(2))\n",
      "(np.int64(8), np.int64(9))\n",
      "(np.int64(0), np.int64(5))\n",
      "(np.int64(0), np.int64(8))\n",
      "(np.int64(1), np.int64(3))\n",
      "(np.int64(1), np.int64(9))\n",
      "(np.int64(4), np.int64(5))\n",
      "(np.int64(5), np.int64(6))\n",
      "(np.int64(0), np.int64(1))\n",
      "(np.int64(0), np.int64(7))\n",
      "(np.int64(1), np.int64(2))\n",
      "(np.int64(0), np.int64(4))\n",
      "(np.int64(6), np.int64(7))\n",
      "(np.int64(0), np.int64(3))\n",
      "(np.int64(0), np.int64(9))\n",
      "(np.int64(0), np.int64(6))\n",
      "(np.int64(2), np.int64(3))\n",
      "(np.int64(7), np.int64(8))\n"
     ]
    }
   ],
   "source": [
    "import numpy as np\n",
    "\n",
    "triangles = np.array([\n",
    "    [0, 1, 2],\n",
    "    [0, 2, 3],\n",
    "    [0, 3, 4],\n",
    "    [0, 4, 5],\n",
    "    [0, 5, 6],\n",
    "    [0, 6, 7],\n",
    "    [0, 7, 8],\n",
    "    [0, 8, 9],\n",
    "    [0, 9, 1],\n",
    "    [1, 2, 3]\n",
    "])\n",
    "\n",
    "def extract_unique_edges(triangles):\n",
    "    edges = set()\n",
    "    for triangle in triangles:\n",
    "        \n",
    "        edges.add(tuple(sorted([triangle[0], triangle[1]])))\n",
    "        edges.add(tuple(sorted([triangle[1], triangle[2]])))\n",
    "        edges.add(tuple(sorted([triangle[2], triangle[0]])))\n",
    "    return edges\n",
    "\n",
    "unique_edges = extract_unique_edges(triangles)\n",
    "\n",
    "print(\"Unique edges:\")\n",
    "for edge in unique_edges:\n",
    "    print(edge)\n"
   ]
  },
  {
   "cell_type": "markdown",
   "metadata": {},
   "source": [
    "74. Given a sorted array C that corresponds to a bincount, how to produce an array A such that np.bincount(A) == C? (★★★)\n"
   ]
  },
  {
   "cell_type": "code",
   "execution_count": 8,
   "metadata": {},
   "outputs": [
    {
     "name": "stdout",
     "output_type": "stream",
     "text": [
      "Array A:\n",
      "[0 0 0 1 1 2 4 4 4 4]\n",
      "Bincount of A:\n",
      "[3 2 1 0 4]\n",
      "C:\n",
      "[3 2 1 0 4]\n"
     ]
    }
   ],
   "source": [
    "import numpy as np\n",
    "\n",
    "C = np.array([3, 2, 1, 0, 4])\n",
    "\n",
    "A_list = []\n",
    "\n",
    "for i, count in enumerate(C):\n",
    "    A_list.extend([i] * count)\n",
    "\n",
    "A = np.array(A_list)\n",
    "\n",
    "print(\"Array A:\")\n",
    "print(A)\n",
    "\n",
    "print(\"Bincount of A:\")\n",
    "print(np.bincount(A))\n",
    "print(\"C:\")\n",
    "print(C)\n"
   ]
  },
  {
   "cell_type": "markdown",
   "metadata": {},
   "source": [
    "75. How to compute averages using a sliding window over an array? (★★★)\n"
   ]
  },
  {
   "cell_type": "code",
   "execution_count": 9,
   "metadata": {},
   "outputs": [
    {
     "name": "stdout",
     "output_type": "stream",
     "text": [
      "Input array:\n",
      "[ 1  2  3  4  5  6  7  8  9 10]\n",
      "Sliding window averages (window size = 3):\n",
      "[2. 3. 4. 5. 6. 7. 8. 9.]\n"
     ]
    }
   ],
   "source": [
    "import numpy as np\n",
    "\n",
    "array = np.array([1, 2, 3, 4, 5, 6, 7, 8, 9, 10])\n",
    "\n",
    "window_size = 3\n",
    "\n",
    "window = np.ones(window_size) / window_size\n",
    "averages = np.convolve(array, window, mode='valid')\n",
    "\n",
    "print(\"Input array:\")\n",
    "print(array)\n",
    "print(f\"Sliding window averages (window size = {window_size}):\")\n",
    "print(averages)\n"
   ]
  },
  {
   "cell_type": "markdown",
   "metadata": {},
   "source": [
    "76. Consider a one-dimensional array Z, build a two-dimensional array whose first row is (Z[0],Z[1],Z[2]) and each subsequent row is shifted by 1 (last row should be (Z[-3],Z[-2],Z[-1]) (★★★)\n"
   ]
  },
  {
   "cell_type": "code",
   "execution_count": 10,
   "metadata": {},
   "outputs": [
    {
     "name": "stdout",
     "output_type": "stream",
     "text": [
      "One-dimensional array Z:\n",
      "[1 2 3 4 5 6 7 8 9]\n",
      "Two-dimensional array with shifted rows:\n",
      "[[1 2 3]\n",
      " [2 3 4]\n",
      " [3 4 5]\n",
      " [4 5 6]\n",
      " [5 6 7]\n",
      " [6 7 8]\n",
      " [7 8 9]]\n"
     ]
    }
   ],
   "source": [
    "import numpy as np\n",
    "\n",
    "Z = np.array([1, 2, 3, 4, 5, 6, 7, 8, 9])\n",
    "\n",
    "window_size = 3\n",
    "rows = []\n",
    "for i in range(len(Z) - window_size + 1):\n",
    "    row = Z[i:i + window_size]\n",
    "    rows.append(row)\n",
    "\n",
    "result = np.array(rows)\n",
    "\n",
    "print(\"One-dimensional array Z:\")\n",
    "print(Z)\n",
    "print(\"Two-dimensional array with shifted rows:\")\n",
    "print(result)\n"
   ]
  },
  {
   "cell_type": "markdown",
   "metadata": {},
   "source": [
    "77. How to negate a boolean, or to change the sign of a float inplace? (★★★)\n"
   ]
  },
  {
   "cell_type": "code",
   "execution_count": 11,
   "metadata": {},
   "outputs": [
    {
     "name": "stdout",
     "output_type": "stream",
     "text": [
      "Negated boolean array:\n",
      "[False  True False  True False]\n"
     ]
    }
   ],
   "source": [
    "import numpy as np\n",
    "\n",
    "bool_array = np.array([True, False, True, False, True])\n",
    "\n",
    "bool_array = ~bool_array\n",
    "\n",
    "print(\"Negated boolean array:\")\n",
    "print(bool_array)\n"
   ]
  },
  {
   "cell_type": "code",
   "execution_count": 12,
   "metadata": {},
   "outputs": [
    {
     "name": "stdout",
     "output_type": "stream",
     "text": [
      "Float array with signs changed:\n",
      "[-1.   2.5 -3.3  4.8 -5.9]\n"
     ]
    }
   ],
   "source": [
    "import numpy as np\n",
    "\n",
    "float_array = np.array([1.0, -2.5, 3.3, -4.8, 5.9])\n",
    "\n",
    "float_array *= -1\n",
    "\n",
    "print(\"Float array with signs changed:\")\n",
    "print(float_array)\n"
   ]
  },
  {
   "cell_type": "markdown",
   "metadata": {},
   "source": [
    "78. Consider 2 sets of points P0,P1 describing lines (2d) and a point p, how to compute distance from p to each line i (P0[i],P1[i])? (★★★)\n"
   ]
  },
  {
   "cell_type": "code",
   "execution_count": 13,
   "metadata": {},
   "outputs": [
    {
     "name": "stdout",
     "output_type": "stream",
     "text": [
      "Distances from point p to each line (P0[i], P1[i]):\n",
      "[2. 1. 0.]\n"
     ]
    }
   ],
   "source": [
    "import numpy as np\n",
    "\n",
    "P0 = np.array([[0, 0], [1, 1], [2, 2]])\n",
    "P1 = np.array([[1, 0], [2, 1], [3, 2]])\n",
    "p = np.array([1, 2])\n",
    "\n",
    "def point_to_line_distance(P0, P1, p):\n",
    "\n",
    "    line_vec = P1 - P0\n",
    "\n",
    "    p_vec = p - P0\n",
    "\n",
    "    cross_prod = line_vec[:, 0] * p_vec[:, 1] - line_vec[:, 1] * p_vec[:, 0]\n",
    "\n",
    "    dist = np.abs(cross_prod) / np.linalg.norm(line_vec, axis=1)\n",
    "    return dist\n",
    "\n",
    "distances = point_to_line_distance(P0, P1, p)\n",
    "\n",
    "print(\"Distances from point p to each line (P0[i], P1[i]):\")\n",
    "print(distances)\n"
   ]
  },
  {
   "cell_type": "markdown",
   "metadata": {},
   "source": [
    "79. Consider 2 sets of points P0,P1 describing lines (2d) and a set of points P, how to compute distance from each point j (P[j]) to each line i (P0[i],P1[i])? (★★★)\n"
   ]
  },
  {
   "cell_type": "code",
   "execution_count": 14,
   "metadata": {},
   "outputs": [
    {
     "name": "stdout",
     "output_type": "stream",
     "text": [
      "Distances from each point P[j] to each line (P0[i], P1[i]):\n",
      "[[2. 3. 4.]\n",
      " [1. 2. 3.]\n",
      " [0. 1. 2.]]\n"
     ]
    }
   ],
   "source": [
    "import numpy as np\n",
    "\n",
    "P0 = np.array([[0, 0], [1, 1], [2, 2]])\n",
    "P1 = np.array([[1, 0], [2, 1], [3, 2]])\n",
    "P = np.array([[1, 2], [2, 3], [3, 4]])\n",
    "\n",
    "def point_to_lines_distances(P0, P1, P):\n",
    "\n",
    "    line_vec = P1 - P0\n",
    "\n",
    "    P0_exp = P0[:, np.newaxis, :]  \n",
    "    P_exp = P[np.newaxis, :, :]    \n",
    "    p_vec = P_exp - P0_exp        \n",
    "    cross_prod = line_vec[:, np.newaxis, 0] * p_vec[:, :, 1] - line_vec[:, np.newaxis, 1] * p_vec[:, :, 0]\n",
    "    \n",
    "    dist = np.abs(cross_prod) / np.linalg.norm(line_vec, axis=1)[:, np.newaxis]\n",
    "    return dist\n",
    "\n",
    "distances = point_to_lines_distances(P0, P1, P)\n",
    "\n",
    "print(\"Distances from each point P[j] to each line (P0[i], P1[i]):\")\n",
    "print(distances)\n"
   ]
  },
  {
   "cell_type": "markdown",
   "metadata": {},
   "source": [
    "80. Consider an arbitrary array, write a function that extract a subpart with a fixed shape and centered on a given element (pad with a fill value when necessary) (★★★)\n"
   ]
  },
  {
   "cell_type": "markdown",
   "metadata": {},
   "source": [
    "81. Consider an array Z = [1,2,3,4,5,6,7,8,9,10,11,12,13,14], how to generate an array R = [[1,2,3,4], [2,3,4,5], [3,4,5,6], ..., [11,12,13,14]]? (★★★)\n"
   ]
  },
  {
   "cell_type": "code",
   "execution_count": 16,
   "metadata": {},
   "outputs": [
    {
     "name": "stdout",
     "output_type": "stream",
     "text": [
      "Array Z:\n",
      "[ 1  2  3  4  5  6  7  8  9 10 11 12 13 14]\n",
      "\n",
      "Generated array R:\n",
      "[[ 1  2  3  4]\n",
      " [ 2  3  4  5]\n",
      " [ 3  4  5  6]\n",
      " [ 4  5  6  7]\n",
      " [ 5  6  7  8]\n",
      " [ 6  7  8  9]\n",
      " [ 7  8  9 10]\n",
      " [ 8  9 10 11]\n",
      " [ 9 10 11 12]\n",
      " [10 11 12 13]\n",
      " [11 12 13 14]]\n"
     ]
    }
   ],
   "source": [
    "import numpy as np\n",
    "\n",
    "# array Z\n",
    "Z = np.array([1, 2, 3, 4, 5, 6, 7, 8, 9, 10, 11, 12, 13, 14])\n",
    "\n",
    "window_size = 4\n",
    "R = np.array([Z[i:i+window_size] for i in range(len(Z) - window_size + 1)])\n",
    "\n",
    "print(\"Array Z:\")\n",
    "print(Z)\n",
    "print(\"\\nGenerated array R:\")\n",
    "print(R)\n"
   ]
  },
  {
   "cell_type": "markdown",
   "metadata": {},
   "source": [
    "82. Compute a matrix rank (★★★)\n"
   ]
  },
  {
   "cell_type": "code",
   "execution_count": 17,
   "metadata": {},
   "outputs": [
    {
     "name": "stdout",
     "output_type": "stream",
     "text": [
      "Matrix:\n",
      "[[1 2 3]\n",
      " [4 5 6]\n",
      " [7 8 9]]\n",
      "\n",
      "Rank of the matrix: 2\n"
     ]
    }
   ],
   "source": [
    "import numpy as np\n",
    "\n",
    "matrix = np.array([\n",
    "    [1, 2, 3],\n",
    "    [4, 5, 6],\n",
    "    [7, 8, 9]\n",
    "])\n",
    "\n",
    "rank = np.linalg.matrix_rank(matrix)\n",
    "\n",
    "print(\"Matrix:\")\n",
    "print(matrix)\n",
    "print(f\"\\nRank of the matrix: {rank}\")\n"
   ]
  },
  {
   "cell_type": "markdown",
   "metadata": {},
   "source": [
    "83. How to find the most frequent value in an array?\n"
   ]
  },
  {
   "cell_type": "code",
   "execution_count": 18,
   "metadata": {},
   "outputs": [
    {
     "name": "stdout",
     "output_type": "stream",
     "text": [
      "Array:\n",
      "[1 2 3 2 2 3 4 5 2 2]\n",
      "\n",
      "The most frequent value is: 2\n"
     ]
    }
   ],
   "source": [
    "import numpy as np\n",
    "\n",
    "arr = np.array([1, 2, 3, 2, 2, 3, 4, 5, 2, 2])\n",
    "\n",
    "most_frequent_value = np.bincount(arr).argmax()\n",
    "\n",
    "print(\"Array:\")\n",
    "print(arr)\n",
    "print(f\"\\nThe most frequent value is: {most_frequent_value}\")\n"
   ]
  },
  {
   "cell_type": "markdown",
   "metadata": {},
   "source": [
    "84. Extract all the contiguous 3x3 blocks from a random 10x10 matrix (★★★)\n"
   ]
  },
  {
   "cell_type": "code",
   "execution_count": 19,
   "metadata": {},
   "outputs": [
    {
     "name": "stdout",
     "output_type": "stream",
     "text": [
      "Original Matrix:\n",
      "[[5 0 3 3 7 9 3 5 2 4]\n",
      " [7 6 8 8 1 6 7 7 8 1]\n",
      " [5 9 8 9 4 3 0 3 5 0]\n",
      " [2 3 8 1 3 3 3 7 0 1]\n",
      " [9 9 0 4 7 3 2 7 2 0]\n",
      " [0 4 5 5 6 8 4 1 4 9]\n",
      " [8 1 1 7 9 9 3 6 7 2]\n",
      " [0 3 5 9 4 4 6 4 4 3]\n",
      " [4 4 8 4 3 7 5 5 0 1]\n",
      " [5 9 3 0 5 0 1 2 4 2]]\n",
      "\n",
      "Extracted 3x3 Blocks:\n",
      "Block 0:\n",
      "[[5 0 3]\n",
      " [7 6 8]\n",
      " [5 9 8]]\n",
      "\n",
      "Block 1:\n",
      "[[0 3 3]\n",
      " [6 8 8]\n",
      " [9 8 9]]\n",
      "\n",
      "Block 2:\n",
      "[[3 3 7]\n",
      " [8 8 1]\n",
      " [8 9 4]]\n",
      "\n",
      "Block 3:\n",
      "[[3 7 9]\n",
      " [8 1 6]\n",
      " [9 4 3]]\n",
      "\n",
      "Block 4:\n",
      "[[7 9 3]\n",
      " [1 6 7]\n",
      " [4 3 0]]\n",
      "\n",
      "Block 5:\n",
      "[[9 3 5]\n",
      " [6 7 7]\n",
      " [3 0 3]]\n",
      "\n",
      "Block 6:\n",
      "[[3 5 2]\n",
      " [7 7 8]\n",
      " [0 3 5]]\n",
      "\n",
      "Block 7:\n",
      "[[5 2 4]\n",
      " [7 8 1]\n",
      " [3 5 0]]\n",
      "\n",
      "Block 8:\n",
      "[[7 6 8]\n",
      " [5 9 8]\n",
      " [2 3 8]]\n",
      "\n",
      "Block 9:\n",
      "[[6 8 8]\n",
      " [9 8 9]\n",
      " [3 8 1]]\n",
      "\n",
      "Block 10:\n",
      "[[8 8 1]\n",
      " [8 9 4]\n",
      " [8 1 3]]\n",
      "\n",
      "Block 11:\n",
      "[[8 1 6]\n",
      " [9 4 3]\n",
      " [1 3 3]]\n",
      "\n",
      "Block 12:\n",
      "[[1 6 7]\n",
      " [4 3 0]\n",
      " [3 3 3]]\n",
      "\n",
      "Block 13:\n",
      "[[6 7 7]\n",
      " [3 0 3]\n",
      " [3 3 7]]\n",
      "\n",
      "Block 14:\n",
      "[[7 7 8]\n",
      " [0 3 5]\n",
      " [3 7 0]]\n",
      "\n",
      "Block 15:\n",
      "[[7 8 1]\n",
      " [3 5 0]\n",
      " [7 0 1]]\n",
      "\n",
      "Block 16:\n",
      "[[5 9 8]\n",
      " [2 3 8]\n",
      " [9 9 0]]\n",
      "\n",
      "Block 17:\n",
      "[[9 8 9]\n",
      " [3 8 1]\n",
      " [9 0 4]]\n",
      "\n",
      "Block 18:\n",
      "[[8 9 4]\n",
      " [8 1 3]\n",
      " [0 4 7]]\n",
      "\n",
      "Block 19:\n",
      "[[9 4 3]\n",
      " [1 3 3]\n",
      " [4 7 3]]\n",
      "\n",
      "Block 20:\n",
      "[[4 3 0]\n",
      " [3 3 3]\n",
      " [7 3 2]]\n",
      "\n",
      "Block 21:\n",
      "[[3 0 3]\n",
      " [3 3 7]\n",
      " [3 2 7]]\n",
      "\n",
      "Block 22:\n",
      "[[0 3 5]\n",
      " [3 7 0]\n",
      " [2 7 2]]\n",
      "\n",
      "Block 23:\n",
      "[[3 5 0]\n",
      " [7 0 1]\n",
      " [7 2 0]]\n",
      "\n",
      "Block 24:\n",
      "[[2 3 8]\n",
      " [9 9 0]\n",
      " [0 4 5]]\n",
      "\n",
      "Block 25:\n",
      "[[3 8 1]\n",
      " [9 0 4]\n",
      " [4 5 5]]\n",
      "\n",
      "Block 26:\n",
      "[[8 1 3]\n",
      " [0 4 7]\n",
      " [5 5 6]]\n",
      "\n",
      "Block 27:\n",
      "[[1 3 3]\n",
      " [4 7 3]\n",
      " [5 6 8]]\n",
      "\n",
      "Block 28:\n",
      "[[3 3 3]\n",
      " [7 3 2]\n",
      " [6 8 4]]\n",
      "\n",
      "Block 29:\n",
      "[[3 3 7]\n",
      " [3 2 7]\n",
      " [8 4 1]]\n",
      "\n",
      "Block 30:\n",
      "[[3 7 0]\n",
      " [2 7 2]\n",
      " [4 1 4]]\n",
      "\n",
      "Block 31:\n",
      "[[7 0 1]\n",
      " [7 2 0]\n",
      " [1 4 9]]\n",
      "\n",
      "Block 32:\n",
      "[[9 9 0]\n",
      " [0 4 5]\n",
      " [8 1 1]]\n",
      "\n",
      "Block 33:\n",
      "[[9 0 4]\n",
      " [4 5 5]\n",
      " [1 1 7]]\n",
      "\n",
      "Block 34:\n",
      "[[0 4 7]\n",
      " [5 5 6]\n",
      " [1 7 9]]\n",
      "\n",
      "Block 35:\n",
      "[[4 7 3]\n",
      " [5 6 8]\n",
      " [7 9 9]]\n",
      "\n",
      "Block 36:\n",
      "[[7 3 2]\n",
      " [6 8 4]\n",
      " [9 9 3]]\n",
      "\n",
      "Block 37:\n",
      "[[3 2 7]\n",
      " [8 4 1]\n",
      " [9 3 6]]\n",
      "\n",
      "Block 38:\n",
      "[[2 7 2]\n",
      " [4 1 4]\n",
      " [3 6 7]]\n",
      "\n",
      "Block 39:\n",
      "[[7 2 0]\n",
      " [1 4 9]\n",
      " [6 7 2]]\n",
      "\n",
      "Block 40:\n",
      "[[0 4 5]\n",
      " [8 1 1]\n",
      " [0 3 5]]\n",
      "\n",
      "Block 41:\n",
      "[[4 5 5]\n",
      " [1 1 7]\n",
      " [3 5 9]]\n",
      "\n",
      "Block 42:\n",
      "[[5 5 6]\n",
      " [1 7 9]\n",
      " [5 9 4]]\n",
      "\n",
      "Block 43:\n",
      "[[5 6 8]\n",
      " [7 9 9]\n",
      " [9 4 4]]\n",
      "\n",
      "Block 44:\n",
      "[[6 8 4]\n",
      " [9 9 3]\n",
      " [4 4 6]]\n",
      "\n",
      "Block 45:\n",
      "[[8 4 1]\n",
      " [9 3 6]\n",
      " [4 6 4]]\n",
      "\n",
      "Block 46:\n",
      "[[4 1 4]\n",
      " [3 6 7]\n",
      " [6 4 4]]\n",
      "\n",
      "Block 47:\n",
      "[[1 4 9]\n",
      " [6 7 2]\n",
      " [4 4 3]]\n",
      "\n",
      "Block 48:\n",
      "[[8 1 1]\n",
      " [0 3 5]\n",
      " [4 4 8]]\n",
      "\n",
      "Block 49:\n",
      "[[1 1 7]\n",
      " [3 5 9]\n",
      " [4 8 4]]\n",
      "\n",
      "Block 50:\n",
      "[[1 7 9]\n",
      " [5 9 4]\n",
      " [8 4 3]]\n",
      "\n",
      "Block 51:\n",
      "[[7 9 9]\n",
      " [9 4 4]\n",
      " [4 3 7]]\n",
      "\n",
      "Block 52:\n",
      "[[9 9 3]\n",
      " [4 4 6]\n",
      " [3 7 5]]\n",
      "\n",
      "Block 53:\n",
      "[[9 3 6]\n",
      " [4 6 4]\n",
      " [7 5 5]]\n",
      "\n",
      "Block 54:\n",
      "[[3 6 7]\n",
      " [6 4 4]\n",
      " [5 5 0]]\n",
      "\n",
      "Block 55:\n",
      "[[6 7 2]\n",
      " [4 4 3]\n",
      " [5 0 1]]\n",
      "\n",
      "Block 56:\n",
      "[[0 3 5]\n",
      " [4 4 8]\n",
      " [5 9 3]]\n",
      "\n",
      "Block 57:\n",
      "[[3 5 9]\n",
      " [4 8 4]\n",
      " [9 3 0]]\n",
      "\n",
      "Block 58:\n",
      "[[5 9 4]\n",
      " [8 4 3]\n",
      " [3 0 5]]\n",
      "\n",
      "Block 59:\n",
      "[[9 4 4]\n",
      " [4 3 7]\n",
      " [0 5 0]]\n",
      "\n",
      "Block 60:\n",
      "[[4 4 6]\n",
      " [3 7 5]\n",
      " [5 0 1]]\n",
      "\n",
      "Block 61:\n",
      "[[4 6 4]\n",
      " [7 5 5]\n",
      " [0 1 2]]\n",
      "\n",
      "Block 62:\n",
      "[[6 4 4]\n",
      " [5 5 0]\n",
      " [1 2 4]]\n",
      "\n",
      "Block 63:\n",
      "[[4 4 3]\n",
      " [5 0 1]\n",
      " [2 4 2]]\n",
      "\n"
     ]
    }
   ],
   "source": [
    "import numpy as np\n",
    "\n",
    "np.random.seed(0)  \n",
    "matrix = np.random.randint(0, 10, size=(10, 10))\n",
    "\n",
    "block_size = 3\n",
    "\n",
    "blocks = []\n",
    "\n",
    "for i in range(matrix.shape[0] - block_size + 1):\n",
    "    for j in range(matrix.shape[1] - block_size + 1):\n",
    "        block = matrix[i:i+block_size, j:j+block_size]\n",
    "        blocks.append(block)\n",
    "\n",
    "blocks = np.array(blocks)\n",
    "\n",
    "print(\"Original Matrix:\")\n",
    "print(matrix)\n",
    "print(\"\\nExtracted 3x3 Blocks:\")\n",
    "for idx, block in enumerate(blocks):\n",
    "    print(f\"Block {idx}:\\n{block}\\n\")\n"
   ]
  },
  {
   "cell_type": "markdown",
   "metadata": {},
   "source": [
    "85. Create a 2D array subclass such that Z[i,j] == Z[j,i] (★★★)\n"
   ]
  },
  {
   "cell_type": "code",
   "execution_count": 20,
   "metadata": {},
   "outputs": [
    {
     "name": "stdout",
     "output_type": "stream",
     "text": [
      "Symmetric Array Z:\n",
      "[[ 0.  0.  0.  0.  0.]\n",
      " [ 0.  0. 10.  0.  0.]\n",
      " [ 0. 10.  0.  0.  0.]\n",
      " [ 0.  0.  0.  0. 20.]\n",
      " [ 0.  0.  0. 20.  0.]]\n"
     ]
    }
   ],
   "source": [
    "import numpy as np\n",
    "\n",
    "class SymmetricArray(np.ndarray):\n",
    "    def __new__(cls, input_array):\n",
    "    \n",
    "        obj = np.asarray(input_array).view(cls)\n",
    "        return obj\n",
    "\n",
    "    def __setitem__(self, index, value):\n",
    "        super().__setitem__(index, value)\n",
    "    \n",
    "        if index[0] != index[1]:\n",
    "            super().__setitem__((index[1], index[0]), value)\n",
    "\n",
    "Z = SymmetricArray(np.zeros((5, 5)))\n",
    "Z[1, 2] = 10\n",
    "Z[3, 4] = 20\n",
    "\n",
    "print(\"Symmetric Array Z:\")\n",
    "print(Z)\n"
   ]
  },
  {
   "cell_type": "markdown",
   "metadata": {},
   "source": [
    "86. Consider a set of p matrices wich shape (n,n) and a set of p vectors with shape (n,1). How to compute the sum of of the p matrix products at once? (result has shape (n,1)) (★★★)\n"
   ]
  },
  {
   "cell_type": "code",
   "execution_count": 21,
   "metadata": {},
   "outputs": [
    {
     "name": "stdout",
     "output_type": "stream",
     "text": [
      "Matrices:\n",
      "Matrix 1:\n",
      "[[0.971945   0.87819347 0.50962438 0.05571469]\n",
      " [0.45115921 0.01998767 0.44171092 0.97958673]\n",
      " [0.35944446 0.48089353 0.68866118 0.88047589]\n",
      " [0.91823547 0.21682214 0.56518887 0.86510256]]\n",
      "Matrix 2:\n",
      "[[0.50896896 0.91672295 0.92115761 0.08311249]\n",
      " [0.27771856 0.0093567  0.84234208 0.64717414]\n",
      " [0.84138612 0.26473016 0.39782075 0.55282148]\n",
      " [0.16494046 0.36980809 0.14644176 0.56961841]]\n",
      "Matrix 3:\n",
      "[[0.70373728 0.28847644 0.43328806 0.75610669]\n",
      " [0.39609828 0.89603839 0.63892108 0.89155444]\n",
      " [0.68005557 0.44919774 0.97857093 0.11620191]\n",
      " [0.7670237  0.41182014 0.67543908 0.24979628]]\n",
      "\n",
      "Vectors:\n",
      "Vector 1:\n",
      "[[0.31321833]\n",
      " [0.96541622]\n",
      " [0.58846509]\n",
      " [0.65966841]]\n",
      "Vector 2:\n",
      "[[0.53320625]\n",
      " [0.23053302]\n",
      " [0.39486929]\n",
      " [0.61880856]]\n",
      "Vector 3:\n",
      "[[0.47486752]\n",
      " [0.47013219]\n",
      " [0.71607453]\n",
      " [0.287991  ]]\n",
      "\n",
      "Sum of Matrix Products:\n",
      "[[3.38461302]\n",
      " [3.27369732]\n",
      " [3.84007489]\n",
      " [3.09716525]]\n"
     ]
    }
   ],
   "source": [
    "import numpy as np\n",
    "\n",
    "p = 3\n",
    "n = 4\n",
    "\n",
    "matrices = [np.random.rand(n, n) for _ in range(p)]\n",
    "vectors = [np.random.rand(n, 1) for _ in range(p)]\n",
    "\n",
    "sum_matrix_products = sum(np.matmul(matrices[i], vectors[i]) for i in range(p))\n",
    "\n",
    "print(\"Matrices:\")\n",
    "for i, matrix in enumerate(matrices):\n",
    "    print(f\"Matrix {i+1}:\\n{matrix}\")\n",
    "\n",
    "print(\"\\nVectors:\")\n",
    "for i, vector in enumerate(vectors):\n",
    "    print(f\"Vector {i+1}:\\n{vector}\")\n",
    "\n",
    "print(\"\\nSum of Matrix Products:\")\n",
    "print(sum_matrix_products)\n"
   ]
  },
  {
   "cell_type": "markdown",
   "metadata": {},
   "source": [
    "87. Consider a 16x16 array, how to get the block-sum (block size is 4x4)? (★★★)\n"
   ]
  },
  {
   "cell_type": "code",
   "execution_count": 22,
   "metadata": {},
   "outputs": [
    {
     "name": "stdout",
     "output_type": "stream",
     "text": [
      "Original Array:\n",
      "[[5 0 3 3 7 9 3 5 2 4 7 6 8 8 1 6]\n",
      " [7 7 8 1 5 9 8 9 4 3 0 3 5 0 2 3]\n",
      " [8 1 3 3 3 7 0 1 9 9 0 4 7 3 2 7]\n",
      " [2 0 0 4 5 5 6 8 4 1 4 9 8 1 1 7]\n",
      " [9 9 3 6 7 2 0 3 5 9 4 4 6 4 4 3]\n",
      " [4 4 8 4 3 7 5 5 0 1 5 9 3 0 5 0]\n",
      " [1 2 4 2 0 3 2 0 7 5 9 0 2 7 2 9]\n",
      " [2 3 3 2 3 4 1 2 9 1 4 6 8 2 3 0]\n",
      " [0 6 0 6 3 3 8 8 8 2 3 2 0 8 8 3]\n",
      " [8 2 8 4 3 0 4 3 6 9 8 0 8 5 9 0]\n",
      " [9 6 5 3 1 8 0 4 9 6 5 7 8 8 9 2]\n",
      " [8 6 6 9 1 6 8 8 3 2 3 6 3 6 5 7]\n",
      " [0 8 4 6 5 8 2 3 9 7 5 3 4 5 3 3]\n",
      " [7 9 9 9 7 3 2 3 9 7 7 5 1 2 2 8]\n",
      " [1 5 8 4 0 2 5 5 0 8 1 1 0 3 8 8]\n",
      " [4 4 0 9 3 7 3 2 1 1 2 1 4 2 5 5]]\n",
      "\n",
      "Block-Sum with Block Size 4x4:\n",
      "[[55 90 69 69]\n",
      " [66 47 78 58]\n",
      " [86 68 79 89]\n",
      " [87 60 67 63]]\n"
     ]
    }
   ],
   "source": [
    "import numpy as np\n",
    "\n",
    "# Create a random 16x16 array (example)\n",
    "np.random.seed(0)  # For reproducibility\n",
    "arr = np.random.randint(0, 10, size=(16, 16))\n",
    "\n",
    "# Define block size\n",
    "block_size = 4\n",
    "\n",
    "# Calculate number of blocks in each dimension\n",
    "num_blocks = arr.shape[0] // block_size\n",
    "\n",
    "# Reshape the array to facilitate block summing\n",
    "reshaped_arr = arr.reshape(num_blocks, block_size, num_blocks, block_size)\n",
    "\n",
    "# Sum over blocks (axis=(1,3) sums over the block dimensions)\n",
    "block_sum = reshaped_arr.sum(axis=(1, 3))\n",
    "\n",
    "print(\"Original Array:\")\n",
    "print(arr)\n",
    "print(\"\\nBlock-Sum with Block Size 4x4:\")\n",
    "print(block_sum)\n"
   ]
  },
  {
   "cell_type": "markdown",
   "metadata": {},
   "source": [
    "88. How to implement the Game of Life using numpy arrays? (★★★)\n"
   ]
  },
  {
   "cell_type": "code",
   "execution_count": null,
   "metadata": {},
   "outputs": [],
   "source": []
  },
  {
   "cell_type": "markdown",
   "metadata": {},
   "source": [
    "89. How to get the n largest values of an array (★★★)\n"
   ]
  },
  {
   "cell_type": "code",
   "execution_count": 23,
   "metadata": {},
   "outputs": [
    {
     "name": "stdout",
     "output_type": "stream",
     "text": [
      "The 3 largest values are: [7 8 9]\n"
     ]
    }
   ],
   "source": [
    "import numpy as np\n",
    "\n",
    "# Example array\n",
    "arr = np.array([3, 1, 8, 4, 5, 9, 2, 7, 6])\n",
    "\n",
    "# Number of largest values to retrieve\n",
    "n_largest = 3\n",
    "\n",
    "# Use np.partition to get the indices of the n largest values\n",
    "indices = np.argpartition(arr, -n_largest)[-n_largest:]\n",
    "\n",
    "# Sort the n largest values\n",
    "n_largest_values = arr[indices]\n",
    "\n",
    "print(f\"The {n_largest} largest values are: {n_largest_values}\")\n"
   ]
  },
  {
   "cell_type": "markdown",
   "metadata": {},
   "source": [
    "90. Given an arbitrary number of vectors, build the cartesian product (every combinations of every item) (★★★)\n"
   ]
  },
  {
   "cell_type": "code",
   "execution_count": 24,
   "metadata": {},
   "outputs": [
    {
     "name": "stdout",
     "output_type": "stream",
     "text": [
      "Cartesian Product:\n",
      "(1, 'a', True)\n",
      "(1, 'a', False)\n",
      "(1, 'b', True)\n",
      "(1, 'b', False)\n",
      "(2, 'a', True)\n",
      "(2, 'a', False)\n",
      "(2, 'b', True)\n",
      "(2, 'b', False)\n",
      "(3, 'a', True)\n",
      "(3, 'a', False)\n",
      "(3, 'b', True)\n",
      "(3, 'b', False)\n"
     ]
    }
   ],
   "source": [
    "from itertools import product\n",
    "\n",
    "# Example vectors\n",
    "vec1 = [1, 2, 3]\n",
    "vec2 = ['a', 'b']\n",
    "vec3 = [True, False]\n",
    "\n",
    "# Compute Cartesian product\n",
    "cartesian_product = list(product(vec1, vec2, vec3))\n",
    "\n",
    "print(\"Cartesian Product:\")\n",
    "for combination in cartesian_product:\n",
    "    print(combination)\n"
   ]
  },
  {
   "cell_type": "code",
   "execution_count": null,
   "metadata": {},
   "outputs": [],
   "source": [
    "91. How to create a record array from a regular array? (★★★)\n"
   ]
  },
  {
   "cell_type": "code",
   "execution_count": 1,
   "metadata": {},
   "outputs": [
    {
     "ename": "ValueError",
     "evalue": "When changing to a smaller dtype, its size must be a divisor of the size of original dtype",
     "output_type": "error",
     "traceback": [
      "\u001b[1;31m---------------------------------------------------------------------------\u001b[0m",
      "\u001b[1;31mValueError\u001b[0m                                Traceback (most recent call last)",
      "Cell \u001b[1;32mIn[1], line 10\u001b[0m\n\u001b[0;32m      7\u001b[0m dtype \u001b[38;5;241m=\u001b[39m [(\u001b[38;5;124m'\u001b[39m\u001b[38;5;124mcol1\u001b[39m\u001b[38;5;124m'\u001b[39m, \u001b[38;5;28mint\u001b[39m), (\u001b[38;5;124m'\u001b[39m\u001b[38;5;124mcol2\u001b[39m\u001b[38;5;124m'\u001b[39m, \u001b[38;5;28mfloat\u001b[39m), (\u001b[38;5;124m'\u001b[39m\u001b[38;5;124mcol3\u001b[39m\u001b[38;5;124m'\u001b[39m, \u001b[38;5;124m'\u001b[39m\u001b[38;5;124mU10\u001b[39m\u001b[38;5;124m'\u001b[39m)]  \u001b[38;5;66;03m# U10: Unicode string of length 10\u001b[39;00m\n\u001b[0;32m      9\u001b[0m \u001b[38;5;66;03m# Create record array\u001b[39;00m\n\u001b[1;32m---> 10\u001b[0m record_array \u001b[38;5;241m=\u001b[39m \u001b[43mnp\u001b[49m\u001b[38;5;241;43m.\u001b[39;49m\u001b[43mrec\u001b[49m\u001b[38;5;241;43m.\u001b[39;49m\u001b[43marray\u001b[49m\u001b[43m(\u001b[49m\u001b[43mregular_array\u001b[49m\u001b[43m,\u001b[49m\u001b[43m \u001b[49m\u001b[43mdtype\u001b[49m\u001b[38;5;241;43m=\u001b[39;49m\u001b[43mdtype\u001b[49m\u001b[43m)\u001b[49m\n\u001b[0;32m     12\u001b[0m \u001b[38;5;28mprint\u001b[39m(\u001b[38;5;124m\"\u001b[39m\u001b[38;5;124mRegular Array:\u001b[39m\u001b[38;5;124m\"\u001b[39m)\n\u001b[0;32m     13\u001b[0m \u001b[38;5;28mprint\u001b[39m(regular_array)\n",
      "File \u001b[1;32mc:\\Users\\ADMIN\\Desktop\\numpy\\numpy\\Lib\\site-packages\\numpy\\_core\\records.py:1075\u001b[0m, in \u001b[0;36marray\u001b[1;34m(obj, dtype, shape, offset, strides, formats, names, titles, aligned, byteorder, copy)\u001b[0m\n\u001b[0;32m   1073\u001b[0m \u001b[38;5;28;01melif\u001b[39;00m \u001b[38;5;28misinstance\u001b[39m(obj, ndarray):\n\u001b[0;32m   1074\u001b[0m     \u001b[38;5;28;01mif\u001b[39;00m dtype \u001b[38;5;129;01mis\u001b[39;00m \u001b[38;5;129;01mnot\u001b[39;00m \u001b[38;5;28;01mNone\u001b[39;00m \u001b[38;5;129;01mand\u001b[39;00m (obj\u001b[38;5;241m.\u001b[39mdtype \u001b[38;5;241m!=\u001b[39m dtype):\n\u001b[1;32m-> 1075\u001b[0m         new \u001b[38;5;241m=\u001b[39m \u001b[43mobj\u001b[49m\u001b[38;5;241;43m.\u001b[39;49m\u001b[43mview\u001b[49m\u001b[43m(\u001b[49m\u001b[43mdtype\u001b[49m\u001b[43m)\u001b[49m\n\u001b[0;32m   1076\u001b[0m     \u001b[38;5;28;01melse\u001b[39;00m:\n\u001b[0;32m   1077\u001b[0m         new \u001b[38;5;241m=\u001b[39m obj\n",
      "\u001b[1;31mValueError\u001b[0m: When changing to a smaller dtype, its size must be a divisor of the size of original dtype"
     ]
    }
   ],
   "source": [
    "import numpy as np\n",
    "\n",
    "# Regular array\n",
    "regular_array = np.array([(1, 2.0, 'Hello'), (3, 4.0, 'World')])\n",
    "\n",
    "# Define dtype for record array\n",
    "dtype = [('col1', int), ('col2', float), ('col3', 'U10')]  # U10: Unicode string of length 10\n",
    "\n",
    "# Create record array\n",
    "record_array = np.rec.array(regular_array, dtype=dtype)\n",
    "\n",
    "print(\"Regular Array:\")\n",
    "print(regular_array)\n",
    "print(\"\\nRecord Array:\")\n",
    "print(record_array)\n"
   ]
  },
  {
   "cell_type": "markdown",
   "metadata": {},
   "source": [
    "92. Consider a large vector Z, compute Z to the power of 3 using 3 different methods (★★★)\n"
   ]
  },
  {
   "cell_type": "code",
   "execution_count": 3,
   "metadata": {},
   "outputs": [],
   "source": [
    "import numpy as np\n",
    "\n",
    "# Create a large vector Z\n",
    "Z = np.random.rand(1000000)\n",
    "\n",
    "Z_cubed_vectorized = Z ** 3"
   ]
  },
  {
   "cell_type": "markdown",
   "metadata": {},
   "source": [
    "93. Consider two arrays A and B of shape (8,3) and (2,2). How to find rows of A that contain elements of each row of B regardless of the order of the elements in B? (★★★)"
   ]
  },
  {
   "cell_type": "code",
   "execution_count": 9,
   "metadata": {},
   "outputs": [
    {
     "name": "stdout",
     "output_type": "stream",
     "text": [
      "Array A:\n",
      "[[1 4 1]\n",
      " [3 2 4]\n",
      " [1 2 4]\n",
      " [4 0 4]\n",
      " [0 3 4]\n",
      " [0 1 0]\n",
      " [0 3 2]\n",
      " [4 0 4]]\n",
      "\n",
      "Array B:\n",
      "[[0 3]\n",
      " [1 2]]\n",
      "\n",
      "Rows of A that contain elements of each row of B:\n",
      "[[0 3 4]\n",
      " [0 3 2]\n",
      " [1 2 4]]\n"
     ]
    }
   ],
   "source": [
    "import numpy as np\n",
    "\n",
    "A = np.random.randint(0, 5, (8, 3))\n",
    "B = np.random.randint(0, 5, (2, 2))\n",
    "\n",
    "A_sets = [set(row) for row in A]\n",
    "B_sets = [set(row) for row in B]\n",
    "\n",
    "result = []\n",
    "for b_set in B_sets:\n",
    "    for i, a_set in enumerate(A_sets):\n",
    "        if b_set.issubset(a_set):\n",
    "            result.append(A[i])\n",
    "\n",
    "result = np.array(result)\n",
    "\n",
    "print(\"Array A:\")\n",
    "print(A)\n",
    "print(\"\\nArray B:\")\n",
    "print(B)\n",
    "print(\"\\nRows of A that contain elements of each row of B:\")\n",
    "print(result)\n"
   ]
  },
  {
   "cell_type": "markdown",
   "metadata": {},
   "source": [
    "94. Considering a 10x3 matrix, extract rows with unequal values (e.g. [2,2,3]) (★★★)\n"
   ]
  },
  {
   "cell_type": "code",
   "execution_count": 10,
   "metadata": {},
   "outputs": [
    {
     "name": "stdout",
     "output_type": "stream",
     "text": [
      "Matrix:\n",
      "[[1 2 1]\n",
      " [3 4 0]\n",
      " [3 4 2]\n",
      " [2 1 4]\n",
      " [1 1 1]\n",
      " [4 0 4]\n",
      " [0 3 1]\n",
      " [1 0 1]\n",
      " [1 1 0]\n",
      " [1 2 0]]\n",
      "\n",
      "Rows with unequal values:\n",
      "[[3 4 0]\n",
      " [3 4 2]\n",
      " [2 1 4]\n",
      " [0 3 1]\n",
      " [1 2 0]]\n"
     ]
    }
   ],
   "source": [
    "import numpy as np\n",
    "\n",
    "matrix = np.random.randint(0, 5, (10, 3))\n",
    "\n",
    "\n",
    "unique_rows = matrix[np.apply_along_axis(lambda x: len(set(x)) == len(x), 1, matrix)]\n",
    "\n",
    "print(\"Matrix:\")\n",
    "print(matrix)\n",
    "print(\"\\nRows with unequal values:\")\n",
    "print(unique_rows)\n"
   ]
  },
  {
   "cell_type": "markdown",
   "metadata": {},
   "source": [
    "95. Convert a vector of ints into a matrix binary representation (★★★)\n"
   ]
  },
  {
   "cell_type": "code",
   "execution_count": 11,
   "metadata": {},
   "outputs": [
    {
     "name": "stdout",
     "output_type": "stream",
     "text": [
      "Original vector:\n",
      "[ 3  7 15  8]\n",
      "\n",
      "Binary matrix:\n",
      "[[0 0 1 1]\n",
      " [0 1 1 1]\n",
      " [1 1 1 1]\n",
      " [1 0 0 0]]\n"
     ]
    }
   ],
   "source": [
    "import numpy as np\n",
    "\n",
    "\n",
    "vector = np.array([3, 7, 15, 8])\n",
    "\n",
    "\n",
    "def int_to_padded_binary(x, max_len):\n",
    "    return np.binary_repr(x).zfill(max_len)\n",
    "\n",
    "\n",
    "max_len = len(np.binary_repr(vector.max()))\n",
    "\n",
    "\n",
    "binary_matrix = np.array([list(int_to_padded_binary(x, max_len)) for x in vector], dtype=int)\n",
    "\n",
    "print(\"Original vector:\")\n",
    "print(vector)\n",
    "print(\"\\nBinary matrix:\")\n",
    "print(binary_matrix)\n"
   ]
  },
  {
   "cell_type": "markdown",
   "metadata": {},
   "source": [
    "96. Given a two dimensional array, how to extract unique rows? (★★★)\n"
   ]
  },
  {
   "cell_type": "code",
   "execution_count": 12,
   "metadata": {},
   "outputs": [
    {
     "name": "stdout",
     "output_type": "stream",
     "text": [
      "Original array:\n",
      "[[1 2 3]\n",
      " [3 4 5]\n",
      " [1 2 3]\n",
      " [6 7 8]\n",
      " [3 4 5]]\n",
      "\n",
      "Unique rows:\n",
      "[[1 2 3]\n",
      " [3 4 5]\n",
      " [6 7 8]]\n"
     ]
    }
   ],
   "source": [
    "import numpy as np\n",
    "\n",
    "\n",
    "array = np.array([[1, 2, 3],\n",
    "                  [3, 4, 5],\n",
    "                  [1, 2, 3],\n",
    "                  [6, 7, 8],\n",
    "                  [3, 4, 5]])\n",
    "\n",
    "\n",
    "unique_rows = np.unique(array, axis=0)\n",
    "\n",
    "print(\"Original array:\")\n",
    "print(array)\n",
    "print(\"\\nUnique rows:\")\n",
    "print(unique_rows)\n"
   ]
  },
  {
   "cell_type": "markdown",
   "metadata": {},
   "source": [
    "97. Considering 2 vectors A & B, write the einsum equivalent of inner, outer, sum, and mul function (★★★)\n"
   ]
  },
  {
   "cell_type": "code",
   "execution_count": 13,
   "metadata": {},
   "outputs": [],
   "source": [
    "import numpy as np\n",
    "\n",
    "# Example vectors A and B\n",
    "A = np.array([1, 2, 3])\n",
    "B = np.array([4, 5, 6])\n"
   ]
  },
  {
   "cell_type": "code",
   "execution_count": 14,
   "metadata": {},
   "outputs": [
    {
     "name": "stdout",
     "output_type": "stream",
     "text": [
      "Inner product: 32\n"
     ]
    }
   ],
   "source": [
    "inner_product = np.einsum('i,i', A, B)\n",
    "print(\"Inner product:\", inner_product)\n"
   ]
  },
  {
   "cell_type": "markdown",
   "metadata": {},
   "source": [
    "98. Considering a path described by two vectors (X,Y), how to sample it using equidistant samples (★★★)?\n"
   ]
  },
  {
   "cell_type": "code",
   "execution_count": 16,
   "metadata": {},
   "outputs": [
    {
     "name": "stdout",
     "output_type": "stream",
     "text": [
      "Original X: [0 1 2 3 4]\n",
      "Original Y: [0 1 0 1 0]\n",
      "Equidistant X: [0.         0.44444444 0.88888889 1.33333333 1.77777778 2.22222222\n",
      " 2.66666667 3.11111111 3.55555556 4.        ]\n",
      "Equidistant Y: [0.         0.44444444 0.88888889 0.66666667 0.22222222 0.22222222\n",
      " 0.66666667 0.88888889 0.44444444 0.        ]\n"
     ]
    }
   ],
   "source": [
    "import numpy as np\n",
    "\n",
    "\n",
    "X = np.array([0, 1, 2, 3, 4])\n",
    "Y = np.array([0, 1, 0, 1, 0])\n",
    "\n",
    "\n",
    "distances = np.sqrt(np.diff(X)**2 + np.diff(Y)**2)\n",
    "cumulative_distances = np.concatenate([[0], np.cumsum(distances)])\n",
    "num_samples = 10\n",
    "\n",
    "\n",
    "equidistant_distances = np.linspace(0, cumulative_distances[-1], num_samples)\n",
    "\n",
    "\n",
    "X_equidistant = np.interp(equidistant_distances, cumulative_distances, X)\n",
    "Y_equidistant = np.interp(equidistant_distances, cumulative_distances, Y)\n",
    "\n",
    "print(\"Original X:\", X)\n",
    "print(\"Original Y:\", Y)\n",
    "print(\"Equidistant X:\", X_equidistant)\n",
    "print(\"Equidistant Y:\", Y_equidistant)\n"
   ]
  },
  {
   "cell_type": "code",
   "execution_count": null,
   "metadata": {},
   "outputs": [],
   "source": [
    "99. Given an integer n and a 2D array X, select from X the rows which can be interpreted as draws from a multinomial distribution with n degrees, i.e., the rows which only contain integers and which sum to n. (★★★)\n"
   ]
  },
  {
   "cell_type": "code",
   "execution_count": 17,
   "metadata": {},
   "outputs": [
    {
     "name": "stdout",
     "output_type": "stream",
     "text": [
      "Original X:\n",
      "[[1 2 3]\n",
      " [2 2 2]\n",
      " [0 4 6]\n",
      " [3 3 3]]\n",
      "\n",
      "Selected rows with sum equal to n (6):\n",
      "[[1 2 3]\n",
      " [2 2 2]]\n"
     ]
    }
   ],
   "source": [
    "import numpy as np\n",
    "\n",
    "def is_multinomial_row(row, n):\n",
    "    \n",
    "    if not np.all(np.equal(np.mod(row, 1), 0)):\n",
    "        return False\n",
    "    \n",
    "    \n",
    "    if np.sum(row) != n:\n",
    "        return False\n",
    "    \n",
    "    return True\n",
    "\n",
    "def select_multinomial_rows(X, n):\n",
    "    \n",
    "    selected_rows = []\n",
    "    \n",
    "    \n",
    "    for row in X:\n",
    "        if is_multinomial_row(row, n):\n",
    "            selected_rows.append(row)\n",
    "    \n",
    "    \n",
    "    selected_rows = np.array(selected_rows)\n",
    "    \n",
    "    return selected_rows\n",
    "\n",
    "\n",
    "X = np.array([[1, 2, 3],\n",
    "              [2, 2, 2],\n",
    "              [0, 4, 6],\n",
    "              [3, 3, 3]])\n",
    "\n",
    "n = 6\n",
    "\n",
    "\n",
    "selected_rows = select_multinomial_rows(X, n)\n",
    "\n",
    "print(\"Original X:\")\n",
    "print(X)\n",
    "print(\"\\nSelected rows with sum equal to n ({}):\".format(n))\n",
    "print(selected_rows)\n"
   ]
  },
  {
   "cell_type": "markdown",
   "metadata": {},
   "source": [
    "100. Compute bootstrapped 95% confidence intervals for the mean of a 1D array X (i.e., resample the elements of an array with replacement N times, compute the mean of each sample, and then compute percentiles over the means). (★★★)\n"
   ]
  },
  {
   "cell_type": "code",
   "execution_count": 20,
   "metadata": {},
   "outputs": [
    {
     "name": "stdout",
     "output_type": "stream",
     "text": [
      "Original array X: [ 1  2  3  4  5  6  7  8  9 10]\n",
      "\n",
      "Bootstrap 95% confidence interval for the mean:\n",
      "Lower bound: 3.7\n",
      "Upper bound: 7.2\n"
     ]
    }
   ],
   "source": [
    "import numpy as np\n",
    "\n",
    "def bootstrap_confidence_interval(X, num_samples, alpha=0.05):\n",
    "    \n",
    "    bootstrap_means = np.empty(num_samples)\n",
    "    \n",
    "    \n",
    "    for i in range(num_samples):\n",
    "        resampled_X = np.random.choice(X, size=len(X), replace=True)\n",
    "        bootstrap_means[i] = np.mean(resampled_X)\n",
    "    \n",
    "    \n",
    "    lower_percentile = 100 * alpha / 2\n",
    "    upper_percentile = 100 * (1 - alpha / 2)\n",
    "    ci_lower = np.percentile(bootstrap_means, lower_percentile)\n",
    "    ci_upper = np.percentile(bootstrap_means, upper_percentile)\n",
    "    \n",
    "    return ci_lower, ci_upper, bootstrap_means\n",
    "\n",
    "\n",
    "X = np.array([1, 2, 3, 4, 5, 6, 7, 8, 9, 10])\n",
    "\n",
    "\n",
    "num_samples = 1000\n",
    "\n",
    "\n",
    "ci_lower, ci_upper, bootstrap_means = bootstrap_confidence_interval(X, num_samples)\n",
    "\n",
    "print(\"Original array X:\", X)\n",
    "print(\"\\nBootstrap 95% confidence interval for the mean:\")\n",
    "print(\"Lower bound:\", ci_lower)\n",
    "print(\"Upper bound:\", ci_upper)\n"
   ]
  },
  {
   "cell_type": "code",
   "execution_count": null,
   "metadata": {},
   "outputs": [],
   "source": []
  }
 ],
 "metadata": {
  "kernelspec": {
   "display_name": "numpy",
   "language": "python",
   "name": "python3"
  },
  "language_info": {
   "codemirror_mode": {
    "name": "ipython",
    "version": 3
   },
   "file_extension": ".py",
   "mimetype": "text/x-python",
   "name": "python",
   "nbconvert_exporter": "python",
   "pygments_lexer": "ipython3",
   "version": "3.12.3"
  }
 },
 "nbformat": 4,
 "nbformat_minor": 2
}
